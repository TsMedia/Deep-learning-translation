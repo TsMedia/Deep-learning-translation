{
 "cells": [
  {
   "cell_type": "markdown",
   "metadata": {
    "collapsed": true,
    "deletable": true,
    "editable": true
   },
   "source": [
    "Thiago Gouvêa - tsmedia.rj@gmail.com | Deep-Learning ND - Udacity 2017\n",
    "___\n",
    "\n",
    "# Language Translation\n",
    "In this project, you’re going to take a peek into the realm of neural network machine translation.  You’ll be training a sequence to sequence model on a dataset of English and French sentences that can translate new sentences from English to French.\n",
    "## Get the Data\n",
    "Since translating the whole language of English to French will take lots of time to train, we have provided you with a small portion of the English corpus."
   ]
  },
  {
   "cell_type": "code",
   "execution_count": 4,
   "metadata": {
    "collapsed": false,
    "deletable": true,
    "editable": true
   },
   "outputs": [],
   "source": [
    "\"\"\"\n",
    "DON'T MODIFY ANYTHING IN THIS CELL\n",
    "\"\"\"\n",
    "import helper\n",
    "import problem_unittests as tests\n",
    "\n",
    "source_path = 'data/small_vocab_en'\n",
    "target_path = 'data/small_vocab_fr'\n",
    "source_text = helper.load_data(source_path)\n",
    "target_text = helper.load_data(target_path)"
   ]
  },
  {
   "cell_type": "markdown",
   "metadata": {
    "deletable": true,
    "editable": true
   },
   "source": [
    "## Explore the Data\n",
    "Play around with view_sentence_range to view different parts of the data."
   ]
  },
  {
   "cell_type": "code",
   "execution_count": 5,
   "metadata": {
    "collapsed": false,
    "deletable": true,
    "editable": true
   },
   "outputs": [
    {
     "name": "stdout",
     "output_type": "stream",
     "text": [
      "Dataset Stats\n",
      "Roughly the number of unique words: 227\n",
      "Number of sentences: 137861\n",
      "Average number of words in a sentence: 13.225277634719028\n",
      "\n",
      "English sentences 0 to 10:\n",
      "new jersey is sometimes quiet during autumn , and it is snowy in april .\n",
      "the united states is usually chilly during july , and it is usually freezing in november .\n",
      "california is usually quiet during march , and it is usually hot in june .\n",
      "the united states is sometimes mild during june , and it is cold in september .\n",
      "your least liked fruit is the grape , but my least liked is the apple .\n",
      "his favorite fruit is the orange , but my favorite is the grape .\n",
      "paris is relaxing during december , but it is usually chilly in july .\n",
      "new jersey is busy during spring , and it is never hot in march .\n",
      "our least liked fruit is the lemon , but my least liked is the grape .\n",
      "the united states is sometimes busy during january , and it is sometimes warm in november .\n",
      "\n",
      "French sentences 0 to 10:\n",
      "new jersey est parfois calme pendant l' automne , et il est neigeux en avril .\n",
      "les états-unis est généralement froid en juillet , et il gèle habituellement en novembre .\n",
      "california est généralement calme en mars , et il est généralement chaud en juin .\n",
      "les états-unis est parfois légère en juin , et il fait froid en septembre .\n",
      "votre moins aimé fruit est le raisin , mais mon moins aimé est la pomme .\n",
      "son fruit préféré est l'orange , mais mon préféré est le raisin .\n",
      "paris est relaxant en décembre , mais il est généralement froid en juillet .\n",
      "new jersey est occupé au printemps , et il est jamais chaude en mars .\n",
      "notre fruit est moins aimé le citron , mais mon moins aimé est le raisin .\n",
      "les états-unis est parfois occupé en janvier , et il est parfois chaud en novembre .\n"
     ]
    }
   ],
   "source": [
    "view_sentence_range = (0, 10)\n",
    "\n",
    "\"\"\"\n",
    "DON'T MODIFY ANYTHING IN THIS CELL\n",
    "\"\"\"\n",
    "import numpy as np\n",
    "\n",
    "print('Dataset Stats')\n",
    "print('Roughly the number of unique words: {}'.format(len({word: None for word in source_text.split()})))\n",
    "\n",
    "sentences = source_text.split('\\n')\n",
    "word_counts = [len(sentence.split()) for sentence in sentences]\n",
    "print('Number of sentences: {}'.format(len(sentences)))\n",
    "print('Average number of words in a sentence: {}'.format(np.average(word_counts)))\n",
    "\n",
    "print()\n",
    "print('English sentences {} to {}:'.format(*view_sentence_range))\n",
    "print('\\n'.join(source_text.split('\\n')[view_sentence_range[0]:view_sentence_range[1]]))\n",
    "print()\n",
    "print('French sentences {} to {}:'.format(*view_sentence_range))\n",
    "print('\\n'.join(target_text.split('\\n')[view_sentence_range[0]:view_sentence_range[1]]))"
   ]
  },
  {
   "cell_type": "markdown",
   "metadata": {
    "deletable": true,
    "editable": true
   },
   "source": [
    "## Implement Preprocessing Function\n",
    "### Text to Word Ids\n",
    "As you did with other RNNs, you must turn the text into a number so the computer can understand it. In the function `text_to_ids()`, you'll turn `source_text` and `target_text` from words to ids.  However, you need to add the `<EOS>` word id at the end of each sentence from `target_text`.  This will help the neural network predict when the sentence should end.\n",
    "\n",
    "You can get the `<EOS>` word id by doing:\n",
    "```python\n",
    "target_vocab_to_int['<EOS>']\n",
    "```\n",
    "You can get other word ids using `source_vocab_to_int` and `target_vocab_to_int`."
   ]
  },
  {
   "cell_type": "code",
   "execution_count": 23,
   "metadata": {
    "collapsed": false,
    "deletable": true,
    "editable": true
   },
   "outputs": [
    {
     "name": "stdout",
     "output_type": "stream",
     "text": [
      "Tests Passed\n"
     ]
    }
   ],
   "source": [
    "def text_to_ids(source_text, target_text, source_vocab_to_int, target_vocab_to_int):\n",
    "    \"\"\"\n",
    "    Convert source and target text to proper word ids\n",
    "    \n",
    "    :param source_text: String that contains all the source text.\n",
    "    :param target_text: String that contains all the target text.\n",
    "    \n",
    "    :param source_vocab_to_int: Dictionary to go from the source words to an id\n",
    "    :param target_vocab_to_int: Dictionary to go from the target words to an id\n",
    "    \n",
    "    :return: A tuple of lists (source_id_text, target_id_text)\n",
    "    \"\"\"\n",
    "    ### Process Source Data (English text)\n",
    "    # List of source sentences with words replaced by Ids   \n",
    "    source_id_text = [[source_vocab_to_int[word] for word in s.split()] for s in source_text.split('\\n')]\n",
    "\n",
    "    ### Process Target Data (French text)\n",
    "    # List of target sentences  with words replaced by Ids where last Id represents End of sentence <EOS>    \n",
    "    target_id_text = [[target_vocab_to_int[word] for word in s.split()] + [target_vocab_to_int['<EOS>']] for s in target_text.split('\\n')]\n",
    "    \n",
    "    return source_id_text, target_id_text\n",
    "\n",
    "\n",
    "\n",
    "\"\"\"\n",
    "DON'T MODIFY ANYTHING IN THIS CELL THAT IS BELOW THIS LINE\n",
    "\"\"\"\n",
    "tests.test_text_to_ids(text_to_ids)"
   ]
  },
  {
   "cell_type": "markdown",
   "metadata": {
    "deletable": true,
    "editable": true
   },
   "source": [
    "### Preprocess all the data and save it\n",
    "Running the code cell below will preprocess all the data and save it to file."
   ]
  },
  {
   "cell_type": "code",
   "execution_count": 24,
   "metadata": {
    "collapsed": false,
    "deletable": true,
    "editable": true
   },
   "outputs": [],
   "source": [
    "\"\"\"\n",
    "DON'T MODIFY ANYTHING IN THIS CELL\n",
    "\"\"\"\n",
    "helper.preprocess_and_save_data(source_path, target_path, text_to_ids)"
   ]
  },
  {
   "cell_type": "markdown",
   "metadata": {
    "deletable": true,
    "editable": true
   },
   "source": [
    "# Check Point\n",
    "This is your first checkpoint. If you ever decide to come back to this notebook or have to restart the notebook, you can start from here. The preprocessed data has been saved to disk."
   ]
  },
  {
   "cell_type": "code",
   "execution_count": 25,
   "metadata": {
    "collapsed": false,
    "deletable": true,
    "editable": true
   },
   "outputs": [],
   "source": [
    "\"\"\"\n",
    "DON'T MODIFY ANYTHING IN THIS CELL\n",
    "\"\"\"\n",
    "import numpy as np\n",
    "import helper\n",
    "\n",
    "(source_int_text, target_int_text), (source_vocab_to_int, target_vocab_to_int), _ = helper.load_preprocess()"
   ]
  },
  {
   "cell_type": "markdown",
   "metadata": {
    "deletable": true,
    "editable": true
   },
   "source": [
    "### Check the Version of TensorFlow and Access to GPU\n",
    "This will check to make sure you have the correct version of TensorFlow and access to a GPU"
   ]
  },
  {
   "cell_type": "code",
   "execution_count": 26,
   "metadata": {
    "collapsed": false,
    "deletable": true,
    "editable": true
   },
   "outputs": [
    {
     "name": "stdout",
     "output_type": "stream",
     "text": [
      "TensorFlow Version: 1.0.0\n"
     ]
    },
    {
     "name": "stderr",
     "output_type": "stream",
     "text": [
      "c:\\programdata\\anaconda3\\envs\\floyd\\lib\\site-packages\\ipykernel_launcher.py:14: UserWarning: No GPU found. Please use a GPU to train your neural network.\n",
      "  \n"
     ]
    }
   ],
   "source": [
    "\"\"\"\n",
    "DON'T MODIFY ANYTHING IN THIS CELL\n",
    "\"\"\"\n",
    "from distutils.version import LooseVersion\n",
    "import warnings\n",
    "import tensorflow as tf\n",
    "\n",
    "# Check TensorFlow Version\n",
    "assert LooseVersion(tf.__version__) in [LooseVersion('1.0.0'), LooseVersion('1.0.1')], 'This project requires TensorFlow version 1.0  You are using {}'.format(tf.__version__)\n",
    "print('TensorFlow Version: {}'.format(tf.__version__))\n",
    "\n",
    "# Check for a GPU\n",
    "if not tf.test.gpu_device_name():\n",
    "    warnings.warn('No GPU found. Please use a GPU to train your neural network.')\n",
    "else:\n",
    "    print('Default GPU Device: {}'.format(tf.test.gpu_device_name()))"
   ]
  },
  {
   "cell_type": "markdown",
   "metadata": {
    "deletable": true,
    "editable": true
   },
   "source": [
    "## Build the Neural Network\n",
    "You'll build the components necessary to build a Sequence-to-Sequence model by implementing the following functions below:\n",
    "- `model_inputs`\n",
    "- `process_decoding_input`\n",
    "- `encoding_layer`\n",
    "- `decoding_layer_train`\n",
    "- `decoding_layer_infer`\n",
    "- `decoding_layer`\n",
    "- `seq2seq_model`\n",
    "\n",
    "### Input\n",
    "Implement the `model_inputs()` function to create TF Placeholders for the Neural Network. It should create the following placeholders:\n",
    "\n",
    "- Input text placeholder named \"input\" using the TF Placeholder name parameter with rank 2.\n",
    "- Targets placeholder with rank 2.\n",
    "- Learning rate placeholder with rank 0.\n",
    "- Keep probability placeholder named \"keep_prob\" using the TF Placeholder name parameter with rank 0.\n",
    "\n",
    "Return the placeholders in the following the tuple (Input, Targets, Learing Rate, Keep Probability)"
   ]
  },
  {
   "cell_type": "code",
   "execution_count": 27,
   "metadata": {
    "collapsed": false,
    "deletable": true,
    "editable": true
   },
   "outputs": [
    {
     "name": "stdout",
     "output_type": "stream",
     "text": [
      "Tests Passed\n"
     ]
    }
   ],
   "source": [
    "def model_inputs():\n",
    "    \"\"\"\n",
    "    Create TF Placeholders for input, targets, and learning rate.\n",
    "    :return: Tuple (input, targets, learning rate, keep probability)\n",
    "    \"\"\"\n",
    "    #Input text placeholder\n",
    "    rnn_input = tf.placeholder(tf.int32, shape = [None, None], name = 'input')\n",
    "    \n",
    "    #Targets placeholder\n",
    "    rnn_target = tf.placeholder(tf.int32, shape = [None, None])\n",
    "    \n",
    "    #Learning Rate placeholder\n",
    "    rnn_learning_rate = tf.placeholder(tf.float32)\n",
    "    \n",
    "    #Keep probability placeholder\n",
    "    keep_prob = tf.placeholder(tf.float32, name = 'keep_prob')   \n",
    "    \n",
    "    # return: Tuple (input, targets, learning rate, keep prob)\n",
    "    return rnn_input, rnn_target, rnn_learning_rate, keep_prob\n",
    "\n",
    "\"\"\"\n",
    "DON'T MODIFY ANYTHING IN THIS CELL THAT IS BELOW THIS LINE\n",
    "\"\"\"\n",
    "tests.test_model_inputs(model_inputs)"
   ]
  },
  {
   "cell_type": "markdown",
   "metadata": {
    "deletable": true,
    "editable": true
   },
   "source": [
    "### Process Decoding Input\n",
    "Implement `process_decoding_input` using TensorFlow to remove the last word id from each batch in `target_data` and concat the GO ID to the beginning of each batch."
   ]
  },
  {
   "cell_type": "code",
   "execution_count": 29,
   "metadata": {
    "collapsed": false,
    "deletable": true,
    "editable": true
   },
   "outputs": [
    {
     "name": "stdout",
     "output_type": "stream",
     "text": [
      "Tests Passed\n"
     ]
    }
   ],
   "source": [
    "def process_decoding_input(target_data, target_vocab_to_int, batch_size):\n",
    "    \"\"\"\n",
    "    Preprocess target data for decoding\n",
    "    :param target_data: Target Placeholder\n",
    "    :param target_vocab_to_int: Dictionary to go from the target words to an id\n",
    "    :param batch_size: Batch Size\n",
    "    :return: Preprocessed target data\n",
    "    \"\"\"   \n",
    "    # Remove the last word id from each batch in target_data\n",
    "    drop_last = tf.strided_slice(target_data, [0, 0], [batch_size, -1], [1, 1])\n",
    "    \n",
    "    # Add <GO> to the beginning of each batch\n",
    "    add_go = tf.fill([batch_size, 1], target_vocab_to_int['<GO>'])\n",
    "    \n",
    "    # Return Preprocessed target data\n",
    "    return tf.concat([add_go, drop_last], 1)\n",
    "\n",
    "\"\"\"\n",
    "DON'T MODIFY ANYTHING IN THIS CELL THAT IS BELOW THIS LINE\n",
    "\"\"\"\n",
    "tests.test_process_decoding_input(process_decoding_input)"
   ]
  },
  {
   "cell_type": "markdown",
   "metadata": {
    "deletable": true,
    "editable": true
   },
   "source": [
    "### Encoding\n",
    "Implement `encoding_layer()` to create a Encoder RNN layer using [`tf.nn.dynamic_rnn()`](https://www.tensorflow.org/api_docs/python/tf/nn/dynamic_rnn)."
   ]
  },
  {
   "cell_type": "code",
   "execution_count": 30,
   "metadata": {
    "collapsed": false,
    "deletable": true,
    "editable": true
   },
   "outputs": [
    {
     "name": "stdout",
     "output_type": "stream",
     "text": [
      "Tests Passed\n"
     ]
    }
   ],
   "source": [
    "def encoding_layer(rnn_inputs, rnn_size, num_layers, keep_prob):\n",
    "    \"\"\"\n",
    "    Create encoding layer\n",
    "    :param rnn_inputs: Inputs for the RNN\n",
    "    :param rnn_size: RNN Size\n",
    "    :param num_layers: Number of layers\n",
    "    :param keep_prob: Dropout keep probability\n",
    "    :return: RNN state\n",
    "    \"\"\"\n",
    "    '''\n",
    "    #############\n",
    "    #Create Basic LSTM Cell\n",
    "    lstm_cell = tf.contrib.rnn.BasicLSTMCell(rnn_size)\n",
    "    \n",
    "    #Apply Dropout\n",
    "    lstm_cell = tf.contrib.rnn.DropoutWrapper(lstm_cell, output_keep_prob = keep_prob)\n",
    "    \n",
    "    #Stack BasicLSTMCells in a MultiRNNCell.\n",
    "    mrnn_enc_cell = tf.contrib.rnn.MultiRNNCell([lstm_cell] * num_layers)\n",
    "   \n",
    "    out_state, rnn_state = tf.nn.dynamic_rnn(mrnn_enc_cell, rnn_inputs, dtype=tf.float32)\n",
    "    \n",
    "    return rnn_state\n",
    "    \n",
    "    '''\n",
    "    \n",
    "    # Create LSTM Cell\n",
    "    def make_cell(rnn_size):\n",
    "        enc_cell = tf.contrib.rnn.LSTMCell(rnn_size, initializer=tf.random_uniform_initializer(-0.1, 0.1, seed=2))\n",
    "        return enc_cell\n",
    "    \n",
    "    #Stack LSTMCells in a MultiRNNCell.\n",
    "    mrnn_enc_cell = tf.contrib.rnn.MultiRNNCell([make_cell(rnn_size) for _ in range(num_layers)])\n",
    "    \n",
    "    _, rnn_enc_state = tf.nn.dynamic_rnn(mrnn_enc_cell, rnn_inputs, dtype=tf.float32)    \n",
    "    return rnn_enc_state \n",
    "\n",
    "\"\"\"\n",
    "DON'T MODIFY ANYTHING IN THIS CELL THAT IS BELOW THIS LINE\n",
    "\"\"\"\n",
    "\n",
    "tests.test_encoding_layer(encoding_layer)"
   ]
  },
  {
   "cell_type": "markdown",
   "metadata": {
    "deletable": true,
    "editable": true
   },
   "source": [
    "### Decoding - Training\n",
    "Create training logits using [`tf.contrib.seq2seq.simple_decoder_fn_train()`](https://www.tensorflow.org/versions/r1.0/api_docs/python/tf/contrib/seq2seq/simple_decoder_fn_train) and [`tf.contrib.seq2seq.dynamic_rnn_decoder()`](https://www.tensorflow.org/versions/r1.0/api_docs/python/tf/contrib/seq2seq/dynamic_rnn_decoder).  Apply the `output_fn` to the [`tf.contrib.seq2seq.dynamic_rnn_decoder()`](https://www.tensorflow.org/versions/r1.0/api_docs/python/tf/contrib/seq2seq/dynamic_rnn_decoder) outputs."
   ]
  },
  {
   "cell_type": "code",
   "execution_count": 33,
   "metadata": {
    "collapsed": false,
    "deletable": true,
    "editable": true
   },
   "outputs": [
    {
     "name": "stdout",
     "output_type": "stream",
     "text": [
      "Tests Passed\n"
     ]
    }
   ],
   "source": [
    "def decoding_layer_train(encoder_state, dec_cell, dec_embed_input, sequence_length, decoding_scope,\n",
    "                         output_fn, keep_prob):\n",
    "    \"\"\"\n",
    "    Create a decoding layer for training\n",
    "    :param encoder_state: Encoder State\n",
    "    :param dec_cell: Decoder RNN Cell\n",
    "    :param dec_embed_input: Decoder embedded input\n",
    "    :param sequence_length: Sequence Length\n",
    "    :param decoding_scope: TenorFlow Variable Scope for decoding\n",
    "    :param output_fn: Function to apply the output layer\n",
    "    :param keep_prob: Dropout keep probability\n",
    "    :return: Train Logits\n",
    "    \"\"\"\n",
    "    \n",
    "    #Create train decoder using tf.contrib.seq2seq.simple_decoder_fn_train()\n",
    "    train_decoder = tf.contrib.seq2seq.simple_decoder_fn_train(encoder_state)\n",
    "    \n",
    "    #Perform dynamic decoding using tf.contrib.seq2seq.dynamic_rnn_decoder()\n",
    "    train_decoder_output, _, _ = tf.contrib.seq2seq.dynamic_rnn_decoder(dec_cell,\n",
    "                                                                           train_decoder,\n",
    "                                                                           dec_embed_input,\n",
    "                                                                           sequence_length,\n",
    "                                                                           scope=decoding_scope)\n",
    "   \n",
    "    #Apply the output_fn to the tf.contrib.seq2seq.dynamic_rnn_decoder() outputs    \n",
    "    # return train logits\n",
    "    return output_fn(train_decoder_output)\n",
    "\n",
    "\n",
    "\"\"\"\n",
    "DON'T MODIFY ANYTHING IN THIS CELL THAT IS BELOW THIS LINE\n",
    "\"\"\"\n",
    "tests.test_decoding_layer_train(decoding_layer_train)"
   ]
  },
  {
   "cell_type": "markdown",
   "metadata": {
    "deletable": true,
    "editable": true
   },
   "source": [
    "### Decoding - Inference\n",
    "Create inference logits using [`tf.contrib.seq2seq.simple_decoder_fn_inference()`](https://www.tensorflow.org/versions/r1.0/api_docs/python/tf/contrib/seq2seq/simple_decoder_fn_inference) and [`tf.contrib.seq2seq.dynamic_rnn_decoder()`](https://www.tensorflow.org/versions/r1.0/api_docs/python/tf/contrib/seq2seq/dynamic_rnn_decoder). "
   ]
  },
  {
   "cell_type": "code",
   "execution_count": 36,
   "metadata": {
    "collapsed": false,
    "deletable": true,
    "editable": true
   },
   "outputs": [
    {
     "name": "stdout",
     "output_type": "stream",
     "text": [
      "Tests Passed\n"
     ]
    }
   ],
   "source": [
    "def decoding_layer_infer(encoder_state, dec_cell, dec_embeddings, start_of_sequence_id, end_of_sequence_id,\n",
    "                         maximum_length, vocab_size, decoding_scope, output_fn, keep_prob):\n",
    "    \"\"\"\n",
    "    Create a decoding layer for inference\n",
    "    :param encoder_state: Encoder state\n",
    "    :param dec_cell: Decoder RNN Cell\n",
    "    :param dec_embeddings: Decoder embeddings\n",
    "    :param start_of_sequence_id: GO ID\n",
    "    :param end_of_sequence_id: EOS Id\n",
    "    :param maximum_length: The maximum allowed time steps to decode\n",
    "    :param vocab_size: Size of vocabulary\n",
    "    :param decoding_scope: TensorFlow Variable Scope for decoding\n",
    "    :param output_fn: Function to apply the output layer\n",
    "    :param keep_prob: Dropout keep probability\n",
    "    :return: Inference Logits\n",
    "    \"\"\"\n",
    "    # Create inference decoder\n",
    "    inference_decoder = tf.contrib.seq2seq.simple_decoder_fn_inference(output_fn,\n",
    "                                                                      encoder_state,\n",
    "                                                                      dec_embeddings,\n",
    "                                                                      start_of_sequence_id,\n",
    "                                                                      end_of_sequence_id,\n",
    "                                                                      maximum_length,\n",
    "                                                                      vocab_size)\n",
    "    # inference decoder logits\n",
    "    inference_logits, _, _ = tf.contrib.seq2seq.dynamic_rnn_decoder(dec_cell, inference_decoder, scope=decoding_scope)\n",
    "\n",
    "    return inference_logits\n",
    "\n",
    "\n",
    "\n",
    "\n",
    "\"\"\"\n",
    "DON'T MODIFY ANYTHING IN THIS CELL THAT IS BELOW THIS LINE\n",
    "\"\"\"\n",
    "tests.test_decoding_layer_infer(decoding_layer_infer)"
   ]
  },
  {
   "cell_type": "markdown",
   "metadata": {
    "deletable": true,
    "editable": true
   },
   "source": [
    "### Build the Decoding Layer\n",
    "Implement `decoding_layer()` to create a Decoder RNN layer.\n",
    "\n",
    "- Create RNN cell for decoding using `rnn_size` and `num_layers`.\n",
    "- Create the output fuction using [`lambda`](https://docs.python.org/3/tutorial/controlflow.html#lambda-expressions) to transform it's input, logits, to class logits.\n",
    "- Use the your `decoding_layer_train(encoder_state, dec_cell, dec_embed_input, sequence_length, decoding_scope, output_fn, keep_prob)` function to get the training logits.\n",
    "- Use your `decoding_layer_infer(encoder_state, dec_cell, dec_embeddings, start_of_sequence_id, end_of_sequence_id, maximum_length, vocab_size, decoding_scope, output_fn, keep_prob)` function to get the inference logits.\n",
    "\n",
    "Note: You'll need to use [tf.variable_scope](https://www.tensorflow.org/api_docs/python/tf/variable_scope) to share variables between training and inference."
   ]
  },
  {
   "cell_type": "code",
   "execution_count": 41,
   "metadata": {
    "collapsed": false,
    "deletable": true,
    "editable": true
   },
   "outputs": [
    {
     "name": "stdout",
     "output_type": "stream",
     "text": [
      "Tests Passed\n"
     ]
    }
   ],
   "source": [
    "def decoding_layer(dec_embed_input, dec_embeddings, encoder_state, vocab_size, sequence_length, rnn_size,\n",
    "                   num_layers, target_vocab_to_int, keep_prob):\n",
    "    \"\"\"\n",
    "    Create decoding layer\n",
    "    :param dec_embed_input: Decoder embedded input\n",
    "    :param dec_embeddings: Decoder embeddings\n",
    "    :param encoder_state: The encoded state\n",
    "    :param vocab_size: Size of vocabulary\n",
    "    :param sequence_length: Sequence Length\n",
    "    :param rnn_size: RNN Size\n",
    "    :param num_layers: Number of layers\n",
    "    :param target_vocab_to_int: Dictionary to go from the target words to an id\n",
    "    :param keep_prob: Dropout keep probability\n",
    "    :return: Tuple of (Training Logits, Inference Logits)\n",
    "    \"\"\"\n",
    "    \n",
    "    # Create RNN cell for decoding using rnn_size and num_layers.\n",
    "    def make_dec_cell(rnn_size, num_layers, keep_prob):\n",
    "            \n",
    "        lstm_cell = tf.contrib.rnn.LSTMCell(rnn_size, initializer=tf.random_uniform_initializer(-0.1, 0.1, seed=2))       \n",
    "            \n",
    "        mrnn_dec_cell = tf.contrib.rnn.MultiRNNCell([lstm_cell for _ in range(num_layers)])            \n",
    "       \n",
    "        return tf.contrib.rnn.DropoutWrapper(mrnn_dec_cell, input_keep_prob = keep_prob,\n",
    "                                                 output_keep_prob = keep_prob)\n",
    "    \n",
    "    dec_cell = make_dec_cell(rnn_size, num_layers, keep_prob)\n",
    "    \n",
    "            \n",
    "    # Create the output fuction using lambda to transform it's input, logits, to class logits.\n",
    "    output_fn = lambda x: tf.contrib.layers.fully_connected(x, vocab_size, None, scope=decoding_scope)\n",
    "        \n",
    "\n",
    "    \n",
    "   \n",
    "    with tf.variable_scope(\"decoding\") as decoding_scope:\n",
    "        # Use the your decoding_layer_train function to get the training logits.\n",
    "        training_logits = decoding_layer_train(encoder_state,\n",
    "                                               dec_cell ,\n",
    "                                               dec_embed_input,\n",
    "                                               sequence_length,\n",
    "                                               decoding_scope,\n",
    "                                               output_fn,\n",
    "                                               keep_prob)\n",
    "        \n",
    "        \n",
    "    with tf.variable_scope(\"decoding\", reuse=True) as decoding_scope:\n",
    "        #Use your decoding_layer_infer function to get the inference logits.\n",
    "        inference_logits = decoding_layer_infer(encoder_state,\n",
    "                                                dec_cell,\n",
    "                                                dec_embeddings,\n",
    "                                                target_vocab_to_int['<GO>'],\n",
    "                                                target_vocab_to_int['<EOS>'],\n",
    "                                                sequence_length - 1,\n",
    "                                                vocab_size, decoding_scope,\n",
    "                                                output_fn, keep_prob)\n",
    "        \n",
    "    return training_logits, inference_logits\n",
    "\n",
    "\n",
    "\n",
    "\"\"\"\n",
    "DON'T MODIFY ANYTHING IN THIS CELL THAT IS BELOW THIS LINE\n",
    "\"\"\"\n",
    "tests.test_decoding_layer(decoding_layer)"
   ]
  },
  {
   "cell_type": "markdown",
   "metadata": {
    "deletable": true,
    "editable": true
   },
   "source": [
    "### Build the Neural Network\n",
    "Apply the functions you implemented above to:\n",
    "\n",
    "- Apply embedding to the input data for the encoder.\n",
    "- Encode the input using your `encoding_layer(rnn_inputs, rnn_size, num_layers, keep_prob)`.\n",
    "- Process target data using your `process_decoding_input(target_data, target_vocab_to_int, batch_size)` function.\n",
    "- Apply embedding to the target data for the decoder.\n",
    "- Decode the encoded input using your `decoding_layer(dec_embed_input, dec_embeddings, encoder_state, vocab_size, sequence_length, rnn_size, num_layers, target_vocab_to_int, keep_prob)`."
   ]
  },
  {
   "cell_type": "code",
   "execution_count": 45,
   "metadata": {
    "collapsed": false,
    "deletable": true,
    "editable": true
   },
   "outputs": [
    {
     "name": "stdout",
     "output_type": "stream",
     "text": [
      "Tests Passed\n"
     ]
    }
   ],
   "source": [
    "def seq2seq_model(input_data, target_data, keep_prob, batch_size, sequence_length, source_vocab_size, target_vocab_size,\n",
    "                  enc_embedding_size, dec_embedding_size, rnn_size, num_layers, target_vocab_to_int):\n",
    "    \"\"\"\n",
    "    Build the Sequence-to-Sequence part of the neural network\n",
    "    :param input_data: Input placeholder\n",
    "    :param target_data: Target placeholder\n",
    "    :param keep_prob: Dropout keep probability placeholder\n",
    "    :param batch_size: Batch Size\n",
    "    :param sequence_length: Sequence Length\n",
    "    :param source_vocab_size: Source vocabulary size\n",
    "    :param target_vocab_size: Target vocabulary size\n",
    "    :param enc_embedding_size: Decoder embedding size\n",
    "    :param dec_embedding_size: Encoder embedding size\n",
    "    :param rnn_size: RNN Size\n",
    "    :param num_layers: Number of layers\n",
    "    :param target_vocab_to_int: Dictionary to go from the target words to an id\n",
    "    :return: Tuple of (Training Logits, Inference Logits)\n",
    "    \"\"\"\n",
    "    # Apply embedding to the input data for the encoder.\n",
    "    embed_input_enc = tf.contrib.layers.embed_sequence(input_data, source_vocab_size, enc_embedding_size)\n",
    "    \n",
    "    # Encode the input using your encoding_layer function\n",
    "    enc_state = encoding_layer(embed_input_enc, rnn_size, num_layers, keep_prob)\n",
    "    \n",
    "    # Process target data using your process_decoding_input function.\n",
    "    target_data = process_decoding_input(target_data, target_vocab_to_int, batch_size)\n",
    "    \n",
    "        \n",
    "    # Apply embedding to the target data for the decoder.\n",
    "    dec_embed = tf.Variable(tf.random_uniform([target_vocab_size, dec_embedding_size]))    \n",
    "    embed_input_dec = tf.nn.embedding_lookup(dec_embed, target_data)\n",
    "    \n",
    "    # Decode the encoded input using your decoding_layer\n",
    "    dec_layer = decoding_layer(embed_input_dec,\n",
    "                               dec_embed,\n",
    "                               enc_state,\n",
    "                               target_vocab_size,\n",
    "                               sequence_length,rnn_size,\n",
    "                               num_layers,\n",
    "                               target_vocab_to_int,\n",
    "                               keep_prob)\n",
    "    \n",
    "    return dec_layer\n",
    "\n",
    "\n",
    "\"\"\"\n",
    "DON'T MODIFY ANYTHING IN THIS CELL THAT IS BELOW THIS LINE\n",
    "\"\"\"\n",
    "tests.test_seq2seq_model(seq2seq_model)"
   ]
  },
  {
   "cell_type": "markdown",
   "metadata": {
    "deletable": true,
    "editable": true
   },
   "source": [
    "## Neural Network Training\n",
    "### Hyperparameters\n",
    "Tune the following parameters:\n",
    "\n",
    "- Set `epochs` to the number of epochs.\n",
    "- Set `batch_size` to the batch size.\n",
    "- Set `rnn_size` to the size of the RNNs.\n",
    "- Set `num_layers` to the number of layers.\n",
    "- Set `encoding_embedding_size` to the size of the embedding for the encoder.\n",
    "- Set `decoding_embedding_size` to the size of the embedding for the decoder.\n",
    "- Set `learning_rate` to the learning rate.\n",
    "- Set `keep_probability` to the Dropout keep probability"
   ]
  },
  {
   "cell_type": "code",
   "execution_count": 46,
   "metadata": {
    "collapsed": true,
    "deletable": true,
    "editable": true
   },
   "outputs": [],
   "source": [
    "# Number of Epochs\n",
    "epochs = 8\n",
    "# Batch Size\n",
    "batch_size = 512\n",
    "# RNN Size\n",
    "rnn_size = 256\n",
    "# Number of Layers\n",
    "num_layers = 2\n",
    "# Embedding Size\n",
    "encoding_embedding_size = 256\n",
    "decoding_embedding_size = 256\n",
    "# Learning Rate\n",
    "learning_rate = 0.001\n",
    "# Dropout Keep Probability\n",
    "keep_probability = 0.5"
   ]
  },
  {
   "cell_type": "markdown",
   "metadata": {
    "deletable": true,
    "editable": true
   },
   "source": [
    "### Build the Graph\n",
    "Build the graph using the neural network you implemented."
   ]
  },
  {
   "cell_type": "code",
   "execution_count": 47,
   "metadata": {
    "collapsed": false,
    "deletable": true,
    "editable": true
   },
   "outputs": [],
   "source": [
    "\"\"\"\n",
    "DON'T MODIFY ANYTHING IN THIS CELL\n",
    "\"\"\"\n",
    "save_path = 'checkpoints/dev'\n",
    "(source_int_text, target_int_text), (source_vocab_to_int, target_vocab_to_int), _ = helper.load_preprocess()\n",
    "max_source_sentence_length = max([len(sentence) for sentence in source_int_text])\n",
    "\n",
    "train_graph = tf.Graph()\n",
    "with train_graph.as_default():\n",
    "    input_data, targets, lr, keep_prob = model_inputs()\n",
    "    sequence_length = tf.placeholder_with_default(max_source_sentence_length, None, name='sequence_length')\n",
    "    input_shape = tf.shape(input_data)\n",
    "    \n",
    "    train_logits, inference_logits = seq2seq_model(\n",
    "        tf.reverse(input_data, [-1]), targets, keep_prob, batch_size, sequence_length, len(source_vocab_to_int), len(target_vocab_to_int),\n",
    "        encoding_embedding_size, decoding_embedding_size, rnn_size, num_layers, target_vocab_to_int)\n",
    "\n",
    "    tf.identity(inference_logits, 'logits')\n",
    "    with tf.name_scope(\"optimization\"):\n",
    "        # Loss function\n",
    "        cost = tf.contrib.seq2seq.sequence_loss(\n",
    "            train_logits,\n",
    "            targets,\n",
    "            tf.ones([input_shape[0], sequence_length]))\n",
    "\n",
    "        # Optimizer\n",
    "        optimizer = tf.train.AdamOptimizer(lr)\n",
    "\n",
    "        # Gradient Clipping\n",
    "        gradients = optimizer.compute_gradients(cost)\n",
    "        capped_gradients = [(tf.clip_by_value(grad, -1., 1.), var) for grad, var in gradients if grad is not None]\n",
    "        train_op = optimizer.apply_gradients(capped_gradients)"
   ]
  },
  {
   "cell_type": "markdown",
   "metadata": {
    "deletable": true,
    "editable": true
   },
   "source": [
    "### Train\n",
    "Train the neural network on the preprocessed data. If you have a hard time getting a good loss, check the forums to see if anyone is having the same problem."
   ]
  },
  {
   "cell_type": "code",
   "execution_count": 48,
   "metadata": {
    "collapsed": false,
    "deletable": true,
    "editable": true,
    "scrolled": true
   },
   "outputs": [
    {
     "name": "stdout",
     "output_type": "stream",
     "text": [
      "Epoch   0 Batch    0/269 - Train Accuracy:  0.242, Validation Accuracy:  0.310, Loss:  5.925\n",
      "Epoch   0 Batch    1/269 - Train Accuracy:  0.233, Validation Accuracy:  0.310, Loss:  5.421\n",
      "Epoch   0 Batch    2/269 - Train Accuracy:  0.266, Validation Accuracy:  0.310, Loss:  4.987\n",
      "Epoch   0 Batch    3/269 - Train Accuracy:  0.244, Validation Accuracy:  0.310, Loss:  4.736\n",
      "Epoch   0 Batch    4/269 - Train Accuracy:  0.244, Validation Accuracy:  0.322, Loss:  4.561\n",
      "Epoch   0 Batch    5/269 - Train Accuracy:  0.266, Validation Accuracy:  0.339, Loss:  4.400\n",
      "Epoch   0 Batch    6/269 - Train Accuracy:  0.312, Validation Accuracy:  0.341, Loss:  4.026\n",
      "Epoch   0 Batch    7/269 - Train Accuracy:  0.310, Validation Accuracy:  0.342, Loss:  3.873\n",
      "Epoch   0 Batch    8/269 - Train Accuracy:  0.278, Validation Accuracy:  0.343, Loss:  3.927\n",
      "Epoch   0 Batch    9/269 - Train Accuracy:  0.303, Validation Accuracy:  0.343, Loss:  3.684\n",
      "Epoch   0 Batch   10/269 - Train Accuracy:  0.271, Validation Accuracy:  0.343, Loss:  3.674\n",
      "Epoch   0 Batch   11/269 - Train Accuracy:  0.308, Validation Accuracy:  0.343, Loss:  3.452\n",
      "Epoch   0 Batch   12/269 - Train Accuracy:  0.284, Validation Accuracy:  0.346, Loss:  3.524\n",
      "Epoch   0 Batch   13/269 - Train Accuracy:  0.360, Validation Accuracy:  0.360, Loss:  3.141\n",
      "Epoch   0 Batch   14/269 - Train Accuracy:  0.314, Validation Accuracy:  0.354, Loss:  3.260\n",
      "Epoch   0 Batch   15/269 - Train Accuracy:  0.340, Validation Accuracy:  0.385, Loss:  3.246\n",
      "Epoch   0 Batch   16/269 - Train Accuracy:  0.372, Validation Accuracy:  0.399, Loss:  3.133\n",
      "Epoch   0 Batch   17/269 - Train Accuracy:  0.368, Validation Accuracy:  0.407, Loss:  3.107\n",
      "Epoch   0 Batch   18/269 - Train Accuracy:  0.363, Validation Accuracy:  0.425, Loss:  3.204\n",
      "Epoch   0 Batch   19/269 - Train Accuracy:  0.417, Validation Accuracy:  0.418, Loss:  2.905\n",
      "Epoch   0 Batch   20/269 - Train Accuracy:  0.366, Validation Accuracy:  0.425, Loss:  3.104\n",
      "Epoch   0 Batch   21/269 - Train Accuracy:  0.374, Validation Accuracy:  0.430, Loss:  3.103\n",
      "Epoch   0 Batch   22/269 - Train Accuracy:  0.413, Validation Accuracy:  0.435, Loss:  2.902\n",
      "Epoch   0 Batch   23/269 - Train Accuracy:  0.419, Validation Accuracy:  0.440, Loss:  2.861\n",
      "Epoch   0 Batch   24/269 - Train Accuracy:  0.391, Validation Accuracy:  0.449, Loss:  3.005\n",
      "Epoch   0 Batch   25/269 - Train Accuracy:  0.382, Validation Accuracy:  0.441, Loss:  2.983\n",
      "Epoch   0 Batch   26/269 - Train Accuracy:  0.443, Validation Accuracy:  0.442, Loss:  2.678\n",
      "Epoch   0 Batch   27/269 - Train Accuracy:  0.424, Validation Accuracy:  0.455, Loss:  2.811\n",
      "Epoch   0 Batch   28/269 - Train Accuracy:  0.372, Validation Accuracy:  0.444, Loss:  2.959\n",
      "Epoch   0 Batch   29/269 - Train Accuracy:  0.364, Validation Accuracy:  0.423, Loss:  2.911\n",
      "Epoch   0 Batch   30/269 - Train Accuracy:  0.378, Validation Accuracy:  0.419, Loss:  2.815\n",
      "Epoch   0 Batch   31/269 - Train Accuracy:  0.435, Validation Accuracy:  0.455, Loss:  2.765\n",
      "Epoch   0 Batch   32/269 - Train Accuracy:  0.406, Validation Accuracy:  0.433, Loss:  2.725\n",
      "Epoch   0 Batch   33/269 - Train Accuracy:  0.428, Validation Accuracy:  0.453, Loss:  2.719\n",
      "Epoch   0 Batch   34/269 - Train Accuracy:  0.392, Validation Accuracy:  0.426, Loss:  2.652\n",
      "Epoch   0 Batch   35/269 - Train Accuracy:  0.424, Validation Accuracy:  0.451, Loss:  2.684\n",
      "Epoch   0 Batch   36/269 - Train Accuracy:  0.420, Validation Accuracy:  0.444, Loss:  2.630\n",
      "Epoch   0 Batch   37/269 - Train Accuracy:  0.443, Validation Accuracy:  0.464, Loss:  2.665\n",
      "Epoch   0 Batch   38/269 - Train Accuracy:  0.412, Validation Accuracy:  0.447, Loss:  2.616\n",
      "Epoch   0 Batch   39/269 - Train Accuracy:  0.419, Validation Accuracy:  0.454, Loss:  2.615\n",
      "Epoch   0 Batch   40/269 - Train Accuracy:  0.406, Validation Accuracy:  0.467, Loss:  2.677\n",
      "Epoch   0 Batch   41/269 - Train Accuracy:  0.437, Validation Accuracy:  0.468, Loss:  2.554\n",
      "Epoch   0 Batch   42/269 - Train Accuracy:  0.463, Validation Accuracy:  0.469, Loss:  2.450\n",
      "Epoch   0 Batch   43/269 - Train Accuracy:  0.400, Validation Accuracy:  0.454, Loss:  2.603\n",
      "Epoch   0 Batch   44/269 - Train Accuracy:  0.461, Validation Accuracy:  0.479, Loss:  2.504\n",
      "Epoch   0 Batch   45/269 - Train Accuracy:  0.437, Validation Accuracy:  0.479, Loss:  2.592\n",
      "Epoch   0 Batch   46/269 - Train Accuracy:  0.428, Validation Accuracy:  0.485, Loss:  2.630\n",
      "Epoch   0 Batch   47/269 - Train Accuracy:  0.466, Validation Accuracy:  0.470, Loss:  2.323\n",
      "Epoch   0 Batch   48/269 - Train Accuracy:  0.445, Validation Accuracy:  0.473, Loss:  2.405\n",
      "Epoch   0 Batch   49/269 - Train Accuracy:  0.440, Validation Accuracy:  0.489, Loss:  2.522\n",
      "Epoch   0 Batch   50/269 - Train Accuracy:  0.443, Validation Accuracy:  0.491, Loss:  2.501\n",
      "Epoch   0 Batch   51/269 - Train Accuracy:  0.446, Validation Accuracy:  0.483, Loss:  2.422\n",
      "Epoch   0 Batch   52/269 - Train Accuracy:  0.459, Validation Accuracy:  0.491, Loss:  2.368\n",
      "Epoch   0 Batch   53/269 - Train Accuracy:  0.451, Validation Accuracy:  0.497, Loss:  2.448\n",
      "Epoch   0 Batch   54/269 - Train Accuracy:  0.443, Validation Accuracy:  0.490, Loss:  2.443\n",
      "Epoch   0 Batch   55/269 - Train Accuracy:  0.452, Validation Accuracy:  0.480, Loss:  2.317\n",
      "Epoch   0 Batch   56/269 - Train Accuracy:  0.478, Validation Accuracy:  0.495, Loss:  2.300\n",
      "Epoch   0 Batch   57/269 - Train Accuracy:  0.483, Validation Accuracy:  0.502, Loss:  2.280\n",
      "Epoch   0 Batch   58/269 - Train Accuracy:  0.465, Validation Accuracy:  0.491, Loss:  2.260\n",
      "Epoch   0 Batch   59/269 - Train Accuracy:  0.465, Validation Accuracy:  0.492, Loss:  2.223\n",
      "Epoch   0 Batch   60/269 - Train Accuracy:  0.480, Validation Accuracy:  0.502, Loss:  2.168\n",
      "Epoch   0 Batch   61/269 - Train Accuracy:  0.485, Validation Accuracy:  0.489, Loss:  2.108\n",
      "Epoch   0 Batch   62/269 - Train Accuracy:  0.484, Validation Accuracy:  0.493, Loss:  2.110\n",
      "Epoch   0 Batch   63/269 - Train Accuracy:  0.475, Validation Accuracy:  0.503, Loss:  2.166\n",
      "Epoch   0 Batch   64/269 - Train Accuracy:  0.458, Validation Accuracy:  0.493, Loss:  2.172\n",
      "Epoch   0 Batch   65/269 - Train Accuracy:  0.462, Validation Accuracy:  0.485, Loss:  2.132\n",
      "Epoch   0 Batch   66/269 - Train Accuracy:  0.489, Validation Accuracy:  0.505, Loss:  2.062\n",
      "Epoch   0 Batch   67/269 - Train Accuracy:  0.434, Validation Accuracy:  0.474, Loss:  2.122\n",
      "Epoch   0 Batch   68/269 - Train Accuracy:  0.435, Validation Accuracy:  0.475, Loss:  2.114\n",
      "Epoch   0 Batch   69/269 - Train Accuracy:  0.428, Validation Accuracy:  0.485, Loss:  2.226\n",
      "Epoch   0 Batch   70/269 - Train Accuracy:  0.450, Validation Accuracy:  0.469, Loss:  2.052\n",
      "Epoch   0 Batch   71/269 - Train Accuracy:  0.432, Validation Accuracy:  0.484, Loss:  2.149\n",
      "Epoch   0 Batch   72/269 - Train Accuracy:  0.470, Validation Accuracy:  0.484, Loss:  1.961\n",
      "Epoch   0 Batch   73/269 - Train Accuracy:  0.438, Validation Accuracy:  0.470, Loss:  2.015\n",
      "Epoch   0 Batch   74/269 - Train Accuracy:  0.451, Validation Accuracy:  0.495, Loss:  2.063\n",
      "Epoch   0 Batch   75/269 - Train Accuracy:  0.442, Validation Accuracy:  0.476, Loss:  1.981\n",
      "Epoch   0 Batch   76/269 - Train Accuracy:  0.427, Validation Accuracy:  0.479, Loss:  2.019\n",
      "Epoch   0 Batch   77/269 - Train Accuracy:  0.439, Validation Accuracy:  0.469, Loss:  1.948\n",
      "Epoch   0 Batch   78/269 - Train Accuracy:  0.444, Validation Accuracy:  0.479, Loss:  1.953\n",
      "Epoch   0 Batch   79/269 - Train Accuracy:  0.436, Validation Accuracy:  0.472, Loss:  1.925\n",
      "Epoch   0 Batch   80/269 - Train Accuracy:  0.463, Validation Accuracy:  0.484, Loss:  1.879\n",
      "Epoch   0 Batch   81/269 - Train Accuracy:  0.445, Validation Accuracy:  0.472, Loss:  1.922\n",
      "Epoch   0 Batch   82/269 - Train Accuracy:  0.450, Validation Accuracy:  0.470, Loss:  1.840\n",
      "Epoch   0 Batch   83/269 - Train Accuracy:  0.447, Validation Accuracy:  0.479, Loss:  1.836\n",
      "Epoch   0 Batch   84/269 - Train Accuracy:  0.439, Validation Accuracy:  0.465, Loss:  1.842\n",
      "Epoch   0 Batch   85/269 - Train Accuracy:  0.448, Validation Accuracy:  0.482, Loss:  1.858\n",
      "Epoch   0 Batch   86/269 - Train Accuracy:  0.423, Validation Accuracy:  0.468, Loss:  1.861\n",
      "Epoch   0 Batch   87/269 - Train Accuracy:  0.409, Validation Accuracy:  0.478, Loss:  1.944\n",
      "Epoch   0 Batch   88/269 - Train Accuracy:  0.459, Validation Accuracy:  0.480, Loss:  1.800\n",
      "Epoch   0 Batch   89/269 - Train Accuracy:  0.451, Validation Accuracy:  0.475, Loss:  1.787\n",
      "Epoch   0 Batch   90/269 - Train Accuracy:  0.414, Validation Accuracy:  0.491, Loss:  1.892\n",
      "Epoch   0 Batch   91/269 - Train Accuracy:  0.419, Validation Accuracy:  0.451, Loss:  1.772\n",
      "Epoch   0 Batch   92/269 - Train Accuracy:  0.454, Validation Accuracy:  0.486, Loss:  1.770\n",
      "Epoch   0 Batch   93/269 - Train Accuracy:  0.479, Validation Accuracy:  0.491, Loss:  1.684\n",
      "Epoch   0 Batch   94/269 - Train Accuracy:  0.432, Validation Accuracy:  0.465, Loss:  1.757\n",
      "Epoch   0 Batch   95/269 - Train Accuracy:  0.463, Validation Accuracy:  0.492, Loss:  1.753\n",
      "Epoch   0 Batch   96/269 - Train Accuracy:  0.469, Validation Accuracy:  0.495, Loss:  1.707\n",
      "Epoch   0 Batch   97/269 - Train Accuracy:  0.441, Validation Accuracy:  0.468, Loss:  1.726\n",
      "Epoch   0 Batch   98/269 - Train Accuracy:  0.465, Validation Accuracy:  0.486, Loss:  1.691\n",
      "Epoch   0 Batch   99/269 - Train Accuracy:  0.448, Validation Accuracy:  0.499, Loss:  1.784\n",
      "Epoch   0 Batch  100/269 - Train Accuracy:  0.463, Validation Accuracy:  0.474, Loss:  1.662\n",
      "Epoch   0 Batch  101/269 - Train Accuracy:  0.414, Validation Accuracy:  0.475, Loss:  1.763\n",
      "Epoch   0 Batch  102/269 - Train Accuracy:  0.483, Validation Accuracy:  0.513, Loss:  1.648\n",
      "Epoch   0 Batch  103/269 - Train Accuracy:  0.460, Validation Accuracy:  0.489, Loss:  1.658\n",
      "Epoch   0 Batch  104/269 - Train Accuracy:  0.430, Validation Accuracy:  0.474, Loss:  1.645\n",
      "Epoch   0 Batch  105/269 - Train Accuracy:  0.459, Validation Accuracy:  0.487, Loss:  1.653\n",
      "Epoch   0 Batch  106/269 - Train Accuracy:  0.474, Validation Accuracy:  0.508, Loss:  1.620\n",
      "Epoch   0 Batch  107/269 - Train Accuracy:  0.399, Validation Accuracy:  0.474, Loss:  1.723\n",
      "Epoch   0 Batch  108/269 - Train Accuracy:  0.427, Validation Accuracy:  0.465, Loss:  1.588\n",
      "Epoch   0 Batch  109/269 - Train Accuracy:  0.446, Validation Accuracy:  0.487, Loss:  1.629\n",
      "Epoch   0 Batch  110/269 - Train Accuracy:  0.453, Validation Accuracy:  0.493, Loss:  1.591\n",
      "Epoch   0 Batch  111/269 - Train Accuracy:  0.399, Validation Accuracy:  0.466, Loss:  1.697\n",
      "Epoch   0 Batch  112/269 - Train Accuracy:  0.433, Validation Accuracy:  0.470, Loss:  1.572\n",
      "Epoch   0 Batch  113/269 - Train Accuracy:  0.489, Validation Accuracy:  0.498, Loss:  1.505\n",
      "Epoch   0 Batch  114/269 - Train Accuracy:  0.458, Validation Accuracy:  0.485, Loss:  1.561\n",
      "Epoch   0 Batch  115/269 - Train Accuracy:  0.390, Validation Accuracy:  0.462, Loss:  1.595\n",
      "Epoch   0 Batch  116/269 - Train Accuracy:  0.446, Validation Accuracy:  0.475, Loss:  1.551\n",
      "Epoch   0 Batch  117/269 - Train Accuracy:  0.459, Validation Accuracy:  0.494, Loss:  1.531\n",
      "Epoch   0 Batch  118/269 - Train Accuracy:  0.450, Validation Accuracy:  0.474, Loss:  1.490\n",
      "Epoch   0 Batch  119/269 - Train Accuracy:  0.408, Validation Accuracy:  0.457, Loss:  1.594\n",
      "Epoch   0 Batch  120/269 - Train Accuracy:  0.421, Validation Accuracy:  0.480, Loss:  1.577\n",
      "Epoch   0 Batch  121/269 - Train Accuracy:  0.465, Validation Accuracy:  0.500, Loss:  1.498\n",
      "Epoch   0 Batch  122/269 - Train Accuracy:  0.446, Validation Accuracy:  0.472, Loss:  1.480\n",
      "Epoch   0 Batch  123/269 - Train Accuracy:  0.392, Validation Accuracy:  0.465, Loss:  1.564\n",
      "Epoch   0 Batch  124/269 - Train Accuracy:  0.448, Validation Accuracy:  0.483, Loss:  1.460\n",
      "Epoch   0 Batch  125/269 - Train Accuracy:  0.447, Validation Accuracy:  0.485, Loss:  1.434\n",
      "Epoch   0 Batch  126/269 - Train Accuracy:  0.430, Validation Accuracy:  0.462, Loss:  1.442\n",
      "Epoch   0 Batch  127/269 - Train Accuracy:  0.396, Validation Accuracy:  0.454, Loss:  1.529\n",
      "Epoch   0 Batch  128/269 - Train Accuracy:  0.443, Validation Accuracy:  0.471, Loss:  1.438\n",
      "Epoch   0 Batch  129/269 - Train Accuracy:  0.449, Validation Accuracy:  0.484, Loss:  1.463\n",
      "Epoch   0 Batch  130/269 - Train Accuracy:  0.399, Validation Accuracy:  0.462, Loss:  1.532\n",
      "Epoch   0 Batch  131/269 - Train Accuracy:  0.391, Validation Accuracy:  0.446, Loss:  1.481\n",
      "Epoch   0 Batch  132/269 - Train Accuracy:  0.430, Validation Accuracy:  0.469, Loss:  1.424\n",
      "Epoch   0 Batch  133/269 - Train Accuracy:  0.453, Validation Accuracy:  0.489, Loss:  1.395\n",
      "Epoch   0 Batch  134/269 - Train Accuracy:  0.392, Validation Accuracy:  0.457, Loss:  1.468\n",
      "Epoch   0 Batch  135/269 - Train Accuracy:  0.389, Validation Accuracy:  0.466, Loss:  1.494\n",
      "Epoch   0 Batch  136/269 - Train Accuracy:  0.410, Validation Accuracy:  0.481, Loss:  1.476\n",
      "Epoch   0 Batch  137/269 - Train Accuracy:  0.409, Validation Accuracy:  0.466, Loss:  1.455\n",
      "Epoch   0 Batch  138/269 - Train Accuracy:  0.419, Validation Accuracy:  0.478, Loss:  1.423\n",
      "Epoch   0 Batch  139/269 - Train Accuracy:  0.467, Validation Accuracy:  0.484, Loss:  1.353\n",
      "Epoch   0 Batch  140/269 - Train Accuracy:  0.420, Validation Accuracy:  0.457, Loss:  1.376\n",
      "Epoch   0 Batch  141/269 - Train Accuracy:  0.427, Validation Accuracy:  0.470, Loss:  1.398\n",
      "Epoch   0 Batch  142/269 - Train Accuracy:  0.462, Validation Accuracy:  0.481, Loss:  1.343\n",
      "Epoch   0 Batch  143/269 - Train Accuracy:  0.445, Validation Accuracy:  0.481, Loss:  1.342\n",
      "Epoch   0 Batch  144/269 - Train Accuracy:  0.420, Validation Accuracy:  0.457, Loss:  1.323\n",
      "Epoch   0 Batch  145/269 - Train Accuracy:  0.461, Validation Accuracy:  0.501, Loss:  1.341\n",
      "Epoch   0 Batch  146/269 - Train Accuracy:  0.484, Validation Accuracy:  0.509, Loss:  1.316\n",
      "Epoch   0 Batch  147/269 - Train Accuracy:  0.464, Validation Accuracy:  0.469, Loss:  1.274\n",
      "Epoch   0 Batch  148/269 - Train Accuracy:  0.444, Validation Accuracy:  0.480, Loss:  1.353\n",
      "Epoch   0 Batch  149/269 - Train Accuracy:  0.459, Validation Accuracy:  0.485, Loss:  1.315\n",
      "Epoch   0 Batch  150/269 - Train Accuracy:  0.494, Validation Accuracy:  0.513, Loss:  1.316\n",
      "Epoch   0 Batch  151/269 - Train Accuracy:  0.505, Validation Accuracy:  0.499, Loss:  1.245\n",
      "Epoch   0 Batch  152/269 - Train Accuracy:  0.447, Validation Accuracy:  0.489, Loss:  1.297\n",
      "Epoch   0 Batch  153/269 - Train Accuracy:  0.470, Validation Accuracy:  0.500, Loss:  1.278\n"
     ]
    },
    {
     "ename": "KeyboardInterrupt",
     "evalue": "",
     "output_type": "error",
     "traceback": [
      "\u001b[1;31m---------------------------------------------------------------------------\u001b[0m",
      "\u001b[1;31mKeyboardInterrupt\u001b[0m                         Traceback (most recent call last)",
      "\u001b[1;32m<ipython-input-48-d7dd20c512f1>\u001b[0m in \u001b[0;36m<module>\u001b[1;34m()\u001b[0m\n\u001b[0;32m     49\u001b[0m             batch_valid_logits = sess.run(\n\u001b[0;32m     50\u001b[0m                 \u001b[0minference_logits\u001b[0m\u001b[1;33m,\u001b[0m\u001b[1;33m\u001b[0m\u001b[0m\n\u001b[1;32m---> 51\u001b[1;33m                 {input_data: valid_source, keep_prob: 1.0})\n\u001b[0m\u001b[0;32m     52\u001b[0m \u001b[1;33m\u001b[0m\u001b[0m\n\u001b[0;32m     53\u001b[0m             \u001b[0mtrain_acc\u001b[0m \u001b[1;33m=\u001b[0m \u001b[0mget_accuracy\u001b[0m\u001b[1;33m(\u001b[0m\u001b[0mtarget_batch\u001b[0m\u001b[1;33m,\u001b[0m \u001b[0mbatch_train_logits\u001b[0m\u001b[1;33m)\u001b[0m\u001b[1;33m\u001b[0m\u001b[0m\n",
      "\u001b[1;32mc:\\programdata\\anaconda3\\envs\\floyd\\lib\\site-packages\\tensorflow\\python\\client\\session.py\u001b[0m in \u001b[0;36mrun\u001b[1;34m(self, fetches, feed_dict, options, run_metadata)\u001b[0m\n\u001b[0;32m    765\u001b[0m     \u001b[1;32mtry\u001b[0m\u001b[1;33m:\u001b[0m\u001b[1;33m\u001b[0m\u001b[0m\n\u001b[0;32m    766\u001b[0m       result = self._run(None, fetches, feed_dict, options_ptr,\n\u001b[1;32m--> 767\u001b[1;33m                          run_metadata_ptr)\n\u001b[0m\u001b[0;32m    768\u001b[0m       \u001b[1;32mif\u001b[0m \u001b[0mrun_metadata\u001b[0m\u001b[1;33m:\u001b[0m\u001b[1;33m\u001b[0m\u001b[0m\n\u001b[0;32m    769\u001b[0m         \u001b[0mproto_data\u001b[0m \u001b[1;33m=\u001b[0m \u001b[0mtf_session\u001b[0m\u001b[1;33m.\u001b[0m\u001b[0mTF_GetBuffer\u001b[0m\u001b[1;33m(\u001b[0m\u001b[0mrun_metadata_ptr\u001b[0m\u001b[1;33m)\u001b[0m\u001b[1;33m\u001b[0m\u001b[0m\n",
      "\u001b[1;32mc:\\programdata\\anaconda3\\envs\\floyd\\lib\\site-packages\\tensorflow\\python\\client\\session.py\u001b[0m in \u001b[0;36m_run\u001b[1;34m(self, handle, fetches, feed_dict, options, run_metadata)\u001b[0m\n\u001b[0;32m    963\u001b[0m     \u001b[1;32mif\u001b[0m \u001b[0mfinal_fetches\u001b[0m \u001b[1;32mor\u001b[0m \u001b[0mfinal_targets\u001b[0m\u001b[1;33m:\u001b[0m\u001b[1;33m\u001b[0m\u001b[0m\n\u001b[0;32m    964\u001b[0m       results = self._do_run(handle, final_targets, final_fetches,\n\u001b[1;32m--> 965\u001b[1;33m                              feed_dict_string, options, run_metadata)\n\u001b[0m\u001b[0;32m    966\u001b[0m     \u001b[1;32melse\u001b[0m\u001b[1;33m:\u001b[0m\u001b[1;33m\u001b[0m\u001b[0m\n\u001b[0;32m    967\u001b[0m       \u001b[0mresults\u001b[0m \u001b[1;33m=\u001b[0m \u001b[1;33m[\u001b[0m\u001b[1;33m]\u001b[0m\u001b[1;33m\u001b[0m\u001b[0m\n",
      "\u001b[1;32mc:\\programdata\\anaconda3\\envs\\floyd\\lib\\site-packages\\tensorflow\\python\\client\\session.py\u001b[0m in \u001b[0;36m_do_run\u001b[1;34m(self, handle, target_list, fetch_list, feed_dict, options, run_metadata)\u001b[0m\n\u001b[0;32m   1013\u001b[0m     \u001b[1;32mif\u001b[0m \u001b[0mhandle\u001b[0m \u001b[1;32mis\u001b[0m \u001b[1;32mNone\u001b[0m\u001b[1;33m:\u001b[0m\u001b[1;33m\u001b[0m\u001b[0m\n\u001b[0;32m   1014\u001b[0m       return self._do_call(_run_fn, self._session, feed_dict, fetch_list,\n\u001b[1;32m-> 1015\u001b[1;33m                            target_list, options, run_metadata)\n\u001b[0m\u001b[0;32m   1016\u001b[0m     \u001b[1;32melse\u001b[0m\u001b[1;33m:\u001b[0m\u001b[1;33m\u001b[0m\u001b[0m\n\u001b[0;32m   1017\u001b[0m       return self._do_call(_prun_fn, self._session, handle, feed_dict,\n",
      "\u001b[1;32mc:\\programdata\\anaconda3\\envs\\floyd\\lib\\site-packages\\tensorflow\\python\\client\\session.py\u001b[0m in \u001b[0;36m_do_call\u001b[1;34m(self, fn, *args)\u001b[0m\n\u001b[0;32m   1020\u001b[0m   \u001b[1;32mdef\u001b[0m \u001b[0m_do_call\u001b[0m\u001b[1;33m(\u001b[0m\u001b[0mself\u001b[0m\u001b[1;33m,\u001b[0m \u001b[0mfn\u001b[0m\u001b[1;33m,\u001b[0m \u001b[1;33m*\u001b[0m\u001b[0margs\u001b[0m\u001b[1;33m)\u001b[0m\u001b[1;33m:\u001b[0m\u001b[1;33m\u001b[0m\u001b[0m\n\u001b[0;32m   1021\u001b[0m     \u001b[1;32mtry\u001b[0m\u001b[1;33m:\u001b[0m\u001b[1;33m\u001b[0m\u001b[0m\n\u001b[1;32m-> 1022\u001b[1;33m       \u001b[1;32mreturn\u001b[0m \u001b[0mfn\u001b[0m\u001b[1;33m(\u001b[0m\u001b[1;33m*\u001b[0m\u001b[0margs\u001b[0m\u001b[1;33m)\u001b[0m\u001b[1;33m\u001b[0m\u001b[0m\n\u001b[0m\u001b[0;32m   1023\u001b[0m     \u001b[1;32mexcept\u001b[0m \u001b[0merrors\u001b[0m\u001b[1;33m.\u001b[0m\u001b[0mOpError\u001b[0m \u001b[1;32mas\u001b[0m \u001b[0me\u001b[0m\u001b[1;33m:\u001b[0m\u001b[1;33m\u001b[0m\u001b[0m\n\u001b[0;32m   1024\u001b[0m       \u001b[0mmessage\u001b[0m \u001b[1;33m=\u001b[0m \u001b[0mcompat\u001b[0m\u001b[1;33m.\u001b[0m\u001b[0mas_text\u001b[0m\u001b[1;33m(\u001b[0m\u001b[0me\u001b[0m\u001b[1;33m.\u001b[0m\u001b[0mmessage\u001b[0m\u001b[1;33m)\u001b[0m\u001b[1;33m\u001b[0m\u001b[0m\n",
      "\u001b[1;32mc:\\programdata\\anaconda3\\envs\\floyd\\lib\\site-packages\\tensorflow\\python\\client\\session.py\u001b[0m in \u001b[0;36m_run_fn\u001b[1;34m(session, feed_dict, fetch_list, target_list, options, run_metadata)\u001b[0m\n\u001b[0;32m   1002\u001b[0m         return tf_session.TF_Run(session, options,\n\u001b[0;32m   1003\u001b[0m                                  \u001b[0mfeed_dict\u001b[0m\u001b[1;33m,\u001b[0m \u001b[0mfetch_list\u001b[0m\u001b[1;33m,\u001b[0m \u001b[0mtarget_list\u001b[0m\u001b[1;33m,\u001b[0m\u001b[1;33m\u001b[0m\u001b[0m\n\u001b[1;32m-> 1004\u001b[1;33m                                  status, run_metadata)\n\u001b[0m\u001b[0;32m   1005\u001b[0m \u001b[1;33m\u001b[0m\u001b[0m\n\u001b[0;32m   1006\u001b[0m     \u001b[1;32mdef\u001b[0m \u001b[0m_prun_fn\u001b[0m\u001b[1;33m(\u001b[0m\u001b[0msession\u001b[0m\u001b[1;33m,\u001b[0m \u001b[0mhandle\u001b[0m\u001b[1;33m,\u001b[0m \u001b[0mfeed_dict\u001b[0m\u001b[1;33m,\u001b[0m \u001b[0mfetch_list\u001b[0m\u001b[1;33m)\u001b[0m\u001b[1;33m:\u001b[0m\u001b[1;33m\u001b[0m\u001b[0m\n",
      "\u001b[1;31mKeyboardInterrupt\u001b[0m: "
     ]
    }
   ],
   "source": [
    "\"\"\"\n",
    "DON'T MODIFY ANYTHING IN THIS CELL\n",
    "\"\"\"\n",
    "import time\n",
    "\n",
    "def get_accuracy(target, logits):\n",
    "    \"\"\"\n",
    "    Calculate accuracy\n",
    "    \"\"\"\n",
    "    max_seq = max(target.shape[1], logits.shape[1])\n",
    "    if max_seq - target.shape[1]:\n",
    "        target = np.pad(\n",
    "            target,\n",
    "            [(0,0),(0,max_seq - target.shape[1])],\n",
    "            'constant')\n",
    "    if max_seq - logits.shape[1]:\n",
    "        logits = np.pad(\n",
    "            logits,\n",
    "            [(0,0),(0,max_seq - logits.shape[1]), (0,0)],\n",
    "            'constant')\n",
    "\n",
    "    return np.mean(np.equal(target, np.argmax(logits, 2)))\n",
    "\n",
    "train_source = source_int_text[batch_size:]\n",
    "train_target = target_int_text[batch_size:]\n",
    "\n",
    "valid_source = helper.pad_sentence_batch(source_int_text[:batch_size])\n",
    "valid_target = helper.pad_sentence_batch(target_int_text[:batch_size])\n",
    "\n",
    "with tf.Session(graph=train_graph) as sess:\n",
    "    sess.run(tf.global_variables_initializer())\n",
    "\n",
    "    for epoch_i in range(epochs):\n",
    "        for batch_i, (source_batch, target_batch) in enumerate(\n",
    "                helper.batch_data(train_source, train_target, batch_size)):\n",
    "            start_time = time.time()\n",
    "            \n",
    "            _, loss = sess.run(\n",
    "                [train_op, cost],\n",
    "                {input_data: source_batch,\n",
    "                 targets: target_batch,\n",
    "                 lr: learning_rate,\n",
    "                 sequence_length: target_batch.shape[1],\n",
    "                 keep_prob: keep_probability})\n",
    "            \n",
    "            batch_train_logits = sess.run(\n",
    "                inference_logits,\n",
    "                {input_data: source_batch, keep_prob: 1.0})\n",
    "            batch_valid_logits = sess.run(\n",
    "                inference_logits,\n",
    "                {input_data: valid_source, keep_prob: 1.0})\n",
    "                \n",
    "            train_acc = get_accuracy(target_batch, batch_train_logits)\n",
    "            valid_acc = get_accuracy(np.array(valid_target), batch_valid_logits)\n",
    "            end_time = time.time()\n",
    "            print('Epoch {:>3} Batch {:>4}/{} - Train Accuracy: {:>6.3f}, Validation Accuracy: {:>6.3f}, Loss: {:>6.3f}'\n",
    "                  .format(epoch_i, batch_i, len(source_int_text) // batch_size, train_acc, valid_acc, loss))\n",
    "\n",
    "    # Save Model\n",
    "    saver = tf.train.Saver()\n",
    "    saver.save(sess, save_path)\n",
    "    print('Model Trained and Saved')"
   ]
  },
  {
   "cell_type": "markdown",
   "metadata": {
    "deletable": true,
    "editable": true
   },
   "source": [
    "### Save Parameters\n",
    "Save the `batch_size` and `save_path` parameters for inference."
   ]
  },
  {
   "cell_type": "code",
   "execution_count": null,
   "metadata": {
    "collapsed": false,
    "deletable": true,
    "editable": true
   },
   "outputs": [],
   "source": [
    "\"\"\"\n",
    "DON'T MODIFY ANYTHING IN THIS CELL\n",
    "\"\"\"\n",
    "# Save parameters for checkpoint\n",
    "helper.save_params(save_path)"
   ]
  },
  {
   "cell_type": "markdown",
   "metadata": {
    "deletable": true,
    "editable": true
   },
   "source": [
    "# Checkpoint"
   ]
  },
  {
   "cell_type": "code",
   "execution_count": null,
   "metadata": {
    "collapsed": false,
    "deletable": true,
    "editable": true
   },
   "outputs": [],
   "source": [
    "\"\"\"\n",
    "DON'T MODIFY ANYTHING IN THIS CELL\n",
    "\"\"\"\n",
    "import tensorflow as tf\n",
    "import numpy as np\n",
    "import helper\n",
    "import problem_unittests as tests\n",
    "\n",
    "_, (source_vocab_to_int, target_vocab_to_int), (source_int_to_vocab, target_int_to_vocab) = helper.load_preprocess()\n",
    "load_path = helper.load_params()"
   ]
  },
  {
   "cell_type": "markdown",
   "metadata": {
    "deletable": true,
    "editable": true
   },
   "source": [
    "## Sentence to Sequence\n",
    "To feed a sentence into the model for translation, you first need to preprocess it.  Implement the function `sentence_to_seq()` to preprocess new sentences.\n",
    "\n",
    "- Convert the sentence to lowercase\n",
    "- Convert words into ids using `vocab_to_int`\n",
    "- Convert words not in the vocabulary, to the `<UNK>` word id."
   ]
  },
  {
   "cell_type": "code",
   "execution_count": null,
   "metadata": {
    "collapsed": false,
    "deletable": true,
    "editable": true
   },
   "outputs": [],
   "source": [
    "def sentence_to_seq(sentence, vocab_to_int):\n",
    "    \"\"\"\n",
    "    Convert a sentence to a sequence of ids\n",
    "    :param sentence: String\n",
    "    :param vocab_to_int: Dictionary to go from the words to an id\n",
    "    :return: List of word ids\n",
    "    \"\"\"\n",
    "\n",
    "    # Convert the sentence to lowercase\n",
    "    lower_sentence = sentence.lower()\n",
    "    \n",
    "    # Convert words into ids using vocab_to_int, Convert words not in the vocabulary, to the <UNK> word id\n",
    "    prep_new_sentence = [vocab_to_int.get(word, vocab_to_int['<UNK>']) for word in lower_sentence.split()]\n",
    "    \n",
    "    return prep_new_sentence\n",
    "\n",
    "\n",
    "\n",
    "\n",
    "\n",
    "\"\"\"\n",
    "DON'T MODIFY ANYTHING IN THIS CELL THAT IS BELOW THIS LINE\n",
    "\"\"\"\n",
    "tests.test_sentence_to_seq(sentence_to_seq)"
   ]
  },
  {
   "cell_type": "markdown",
   "metadata": {
    "deletable": true,
    "editable": true
   },
   "source": [
    "## Translate\n",
    "This will translate `translate_sentence` from English to French."
   ]
  },
  {
   "cell_type": "code",
   "execution_count": null,
   "metadata": {
    "collapsed": false,
    "deletable": true,
    "editable": true
   },
   "outputs": [],
   "source": [
    "translate_sentence = 'he saw a old yellow truck .'\n",
    "\n",
    "\n",
    "\"\"\"\n",
    "DON'T MODIFY ANYTHING IN THIS CELL\n",
    "\"\"\"\n",
    "translate_sentence = sentence_to_seq(translate_sentence, source_vocab_to_int)\n",
    "\n",
    "loaded_graph = tf.Graph()\n",
    "with tf.Session(graph=loaded_graph) as sess:\n",
    "    # Load saved model\n",
    "    loader = tf.train.import_meta_graph(load_path + '.meta')\n",
    "    loader.restore(sess, load_path)\n",
    "\n",
    "    input_data = loaded_graph.get_tensor_by_name('input:0')\n",
    "    logits = loaded_graph.get_tensor_by_name('logits:0')\n",
    "    keep_prob = loaded_graph.get_tensor_by_name('keep_prob:0')\n",
    "\n",
    "    translate_logits = sess.run(logits, {input_data: [translate_sentence], keep_prob: 1.0})[0]\n",
    "\n",
    "print('Input')\n",
    "print('  Word Ids:      {}'.format([i for i in translate_sentence]))\n",
    "print('  English Words: {}'.format([source_int_to_vocab[i] for i in translate_sentence]))\n",
    "\n",
    "print('\\nPrediction')\n",
    "print('  Word Ids:      {}'.format([i for i in np.argmax(translate_logits, 1)]))\n",
    "print('  French Words: {}'.format([target_int_to_vocab[i] for i in np.argmax(translate_logits, 1)]))"
   ]
  },
  {
   "cell_type": "markdown",
   "metadata": {
    "deletable": true,
    "editable": true
   },
   "source": [
    "## Imperfect Translation\n",
    "You might notice that some sentences translate better than others.  Since the dataset you're using only has a vocabulary of 227 English words of the thousands that you use, you're only going to see good results using these words.  Additionally, the translations in this data set were made by Google translate, so the translations themselves aren't particularly good.  (We apologize to the French speakers out there!) Thankfully, for this project, you don't need a perfect translation. However, if you want to create a better translation model, you'll need better data.\n",
    "\n",
    "You can train on the [WMT10 French-English corpus](http://www.statmt.org/wmt10/training-giga-fren.tar).  This dataset has more vocabulary and richer in topics discussed.  However, this will take you days to train, so make sure you've a GPU and the neural network is performing well on dataset we provided.  Just make sure you play with the WMT10 corpus after you've submitted this project.\n",
    "## Submitting This Project\n",
    "When submitting this project, make sure to run all the cells before saving the notebook. Save the notebook file as \"dlnd_language_translation.ipynb\" and save it as a HTML file under \"File\" -> \"Download as\". Include the \"helper.py\" and \"problem_unittests.py\" files in your submission."
   ]
  }
 ],
 "metadata": {
  "kernelspec": {
   "display_name": "Python 3",
   "language": "python",
   "name": "python3"
  },
  "language_info": {
   "codemirror_mode": {
    "name": "ipython",
    "version": 3
   },
   "file_extension": ".py",
   "mimetype": "text/x-python",
   "name": "python",
   "nbconvert_exporter": "python",
   "pygments_lexer": "ipython3",
   "version": "3.5.3"
  }
 },
 "nbformat": 4,
 "nbformat_minor": 0
}
